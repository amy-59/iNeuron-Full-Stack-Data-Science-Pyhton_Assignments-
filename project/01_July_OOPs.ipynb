{
 "cells": [
  {
   "cell_type": "markdown",
   "id": "7830eacf",
   "metadata": {},
   "source": [
    "<h1 align = \"center\"> Assignment: OOPs </h1>"
   ]
  },
  {
   "cell_type": "markdown",
   "id": "1ed27a0d",
   "metadata": {},
   "source": [
    "### 1. What is the primary goal of Object-Oriented Programming (OOP)?"
   ]
  },
  {
   "cell_type": "markdown",
   "id": "3f0de2c8",
   "metadata": {},
   "source": [
    "<font color = 'blue'> Answer </font>"
   ]
  },
  {
   "cell_type": "markdown",
   "id": "627cfa1a",
   "metadata": {},
   "source": [
    "Goals of Object oriented programming are:\n",
    "   - __Adaptebility__ : Means the software may run on diffrent generation and grow over a long lifetime.\n",
    "   - __Reusability__: Going hand in hand with adaptability is the desire that software is reusable, that is, code should be usable as a component of different systems in various applications.\n",
    "   - __Robustness__ : It means complex programs should operate corectly.Means that a program produces the right output for all the anticipated inputs in the program’s application. In addition, we want the software to be robust, that is, capable of handling unexpected inputs that are not explicitly defined for its application.\n",
    "   - Overall, the primary goal of OOP is to improve code organization, reusability, and maintainability by representing entities in the problem domain as software objects, leveraging encapsulation, inheritance, and polymorphism as key principles."
   ]
  },
  {
   "cell_type": "markdown",
   "id": "1ddbf275",
   "metadata": {},
   "source": [
    "### 2.What is an object in Python?"
   ]
  },
  {
   "cell_type": "markdown",
   "id": "1cb4d27f",
   "metadata": {},
   "source": [
    "<font color = 'blue'> Answer </font>"
   ]
  },
  {
   "cell_type": "markdown",
   "id": "d710e79b",
   "metadata": {},
   "source": [
    "- An Object is an instance of a Class. A class is like a blueprint while an instance is a copy of the class with actual values. \n",
    "- In Python, almost everything is an object. Whether it's a built-in data type like integers, strings, or lists, or user-defined classes, they are all objects. Every object belongs to a specific class, which defines its properties and behaviors.\n",
    "- When you create an object, you instantiate a class, which means you create a new instance of that class. Each object has its own unique <code>identity</code>, <code>state </code>, and <code>behavior</code>, separate from other objects of the same class.\n",
    "\n",
    "- For example, consider a class called \"Mobile\". You can create multiple objects (instances) of the Mobile class, each representing a specific Mobile with its own unique characteristics such as brand, model, color, and so on. Each Mobile object will have its own set of data (attributes) and can perform actions (methods) like starting the app or sending message."
   ]
  },
  {
   "cell_type": "code",
   "execution_count": 3,
   "id": "9f3cabc4",
   "metadata": {},
   "outputs": [
    {
     "name": "stdout",
     "output_type": "stream",
     "text": [
      "Samsung\n",
      "Galaxy S4\n"
     ]
    }
   ],
   "source": [
    "class Mobile:\n",
    "    def __init__(self, brand, model):\n",
    "        self.brand = brand\n",
    "        self.model = model\n",
    "\n",
    "    def starting_app(self):\n",
    "        print(\"App started!\")\n",
    "\n",
    "# Creating objects of the Mobile class\n",
    "phone1 = Mobile(\"Samsung\", \"Galaxy S4\")\n",
    "Phone2 = Mobile(\"Red Mi\", \"Note 7\")\n",
    "\n",
    "# Accessing object attributes\n",
    "print(phone1.brand)  \n",
    "print(phone1.model)  "
   ]
  },
  {
   "cell_type": "markdown",
   "id": "a57245e2",
   "metadata": {},
   "source": [
    "### 3. What is a class in Python?"
   ]
  },
  {
   "cell_type": "markdown",
   "id": "1b21d0c7",
   "metadata": {},
   "source": [
    "<font color = 'blue'> Answer </font>"
   ]
  },
  {
   "cell_type": "markdown",
   "id": "a5579a19",
   "metadata": {},
   "source": [
    "- A class is considered as a blueprint of objects. \n",
    "- A class encapsulates related data (attributes or properties) and functions (methods) into a single entity. The data represents the state or characteristics of the objects, while the methods define the behaviors or actions that the objects can perform.\n",
    "- For Example We can think of the class as a sketch (prototype) of a house. It contains all the details about the floors, doors, windows, etc. Based on these descriptions we build the house. House is the object.\n",
    "- Since many houses can be made from the same description, we can create many objects from a class."
   ]
  },
  {
   "cell_type": "code",
   "execution_count": 6,
   "id": "78af6dcd",
   "metadata": {},
   "outputs": [
    {
     "name": "stdout",
     "output_type": "stream",
     "text": [
      "1st Person's name is:  Suho\n",
      "2nd Person's age:  30\n"
     ]
    }
   ],
   "source": [
    "class Person:\n",
    "    def __init__(self, name, age):\n",
    "        self.name = name\n",
    "        self.age = age\n",
    "\n",
    "    def say_hello(self):\n",
    "        print(\"Hello, my name is\", self.name)\n",
    "\n",
    "# Creating objects of the Person class\n",
    "person1 = Person(\"Suho\", 25)\n",
    "person2 = Person(\"Chen\", 30)\n",
    "\n",
    "# Accessing object attributes\n",
    "print(\"1st Person's name is: \",person1.name)\n",
    "print(\"2nd Person's age: \",person2.age) "
   ]
  },
  {
   "cell_type": "markdown",
   "id": "19fbb3f2",
   "metadata": {},
   "source": [
    "### 4. What are attributes and methods in a class?"
   ]
  },
  {
   "cell_type": "markdown",
   "id": "ba1fa7df",
   "metadata": {},
   "source": [
    "<font color = 'blue'> Answer </font>"
   ]
  },
  {
   "cell_type": "markdown",
   "id": "7e8dfa24",
   "metadata": {},
   "source": [
    "1. __Attributes__\n",
    "    - Attributes in a class are variables that hold data or information associated with each instance of the class. \n",
    "    - They represent the <code> state </code> or <code>characteristics</code> of the objects. Each object created from the class has its own set of attribute values. \n",
    "    - Attributes can be accessed and modified using dot notation, where the object name is followed by the attribute name.\n",
    "    - For above examples: For Mobile class brand and model are attributes representing 'brand' and 'model' of a mobile. and in sond example Class Person 'name' and 'age' are attributes each obcjects of this class have thier own values of these attributes.\n",
    "    \n",
    "    \n",
    "2. __Methods__ \n",
    "    - Methods in a class are functions defined within the class that define the behavior or actions that the objects can perform. \n",
    "    - They operate on the data stored in the attributes of the class and can also modify the state of the object or perform other operations.\n",
    "    - Methods are defined using the def keyword and can be called on objects of the class using dot notation.\n",
    "    - For Example In person class 'say_hello' method is define to print a greeting message along with person's name "
   ]
  },
  {
   "cell_type": "code",
   "execution_count": 9,
   "id": "0ee0d483",
   "metadata": {},
   "outputs": [
    {
     "name": "stdout",
     "output_type": "stream",
     "text": [
      "1st Person's name is:  Suho\n",
      "2nd Person's age:  30\n",
      "Hello, my name is Suho\n",
      "Second Person's age 35\n"
     ]
    }
   ],
   "source": [
    "class Person:\n",
    "    def __init__(self, name, age):\n",
    "        self.name = name\n",
    "        self.age = age\n",
    "\n",
    "    def say_hello(self):\n",
    "        print(\"Hello, my name is\", self.name)\n",
    "\n",
    "    def increase_age(self, years):\n",
    "        self.age += years\n",
    "\n",
    "# Creating objects of the Person class\n",
    "person1 = Person(\"Suho\", 25)\n",
    "person2 = Person(\"Chen\", 30)\n",
    "\n",
    "# Accessing object attributes\n",
    "print(\"1st Person's name is: \",person1.name)\n",
    "print(\"2nd Person's age: \",person2.age) \n",
    "\n",
    "# Calling object methods\n",
    "person1.say_hello()     \n",
    "person2.increase_age(5)  # Increase Chen's age by 5 years\n",
    "print(\"Second Person's age\",person2.age)       # 35\n",
    "\n",
    "        "
   ]
  },
  {
   "cell_type": "markdown",
   "id": "32f9adea",
   "metadata": {},
   "source": [
    "### 5. What is the difference between class variables and instance variables in Python?"
   ]
  },
  {
   "cell_type": "markdown",
   "id": "e40fd755",
   "metadata": {},
   "source": [
    "<font color = 'blue'> Answer </font>"
   ]
  },
  {
   "cell_type": "markdown",
   "id": "d7846271",
   "metadata": {},
   "source": [
    "Class variable | Instance variable\n",
    "- | -\n",
    "Class variables are variables that are shared among all instances of a class. | Instance variables are variables that are unique to each instance of a class.\n",
    "They are defined within the class but outside any methods. | They are defined within the methods of a class or within the class's constructor (__ __init__ __ method).\n",
    "Class variables are typically used to store data that is common to all instances of the class. | Instance variables hold data that is specific to each instance of the class.\n",
    "They are accessible by all instances of the class as well as the class itself. | They are accessible only by the instance of the class that owns them.\n",
    "Class variables are usually initialized at the class level and retain their value throughout the lifespan of the program. | Instance variables are created and initialized when an object is created and are destroyed when the object is destroyed."
   ]
  },
  {
   "cell_type": "code",
   "execution_count": 11,
   "id": "88fff56e",
   "metadata": {},
   "outputs": [
    {
     "name": "stdout",
     "output_type": "stream",
     "text": [
      "5\n",
      "3\n",
      "3.14159\n",
      "78.53975\n",
      "28.27431\n"
     ]
    }
   ],
   "source": [
    "class Circle:\n",
    "    # Class variable\n",
    "    pi = 3.14159\n",
    "\n",
    "    def __init__(self, radius):\n",
    "        # Instance variable\n",
    "        self.radius = radius\n",
    "\n",
    "    def calculate_area(self):\n",
    "        # Accessing class variable\n",
    "        area = Circle.pi * self.radius**2\n",
    "        return area\n",
    "\n",
    "# Creating instances of the Circle class\n",
    "circle1 = Circle(5)\n",
    "circle2 = Circle(3)\n",
    "\n",
    "# Accessing instance variables\n",
    "print(circle1.radius)  # Output: 5\n",
    "print(circle2.radius)  # Output: 3\n",
    "\n",
    "# Accessing class variable\n",
    "print(Circle.pi)       # Output: 3.14159\n",
    "\n",
    "# Calculating area using instance method\n",
    "print(circle1.calculate_area())  # Output: 78.53975\n",
    "print(circle2.calculate_area())  # Output: 28.27431\n"
   ]
  },
  {
   "cell_type": "markdown",
   "id": "61ec96d3",
   "metadata": {},
   "source": [
    "### 6. What is the purpose of the self parameter in Python class methods?\n"
   ]
  },
  {
   "cell_type": "code",
   "execution_count": null,
   "id": "a9cf2b52",
   "metadata": {},
   "outputs": [],
   "source": []
  },
  {
   "cell_type": "markdown",
   "id": "985e4969",
   "metadata": {},
   "source": [
    "- In Python, the self parameter is a convention used to refer to the instance of a class within its own methods. - It acts as a reference to the instance itself, allowing you to access and modify its attributes and invoke other methods. \n",
    "- The self parameter is typically the first parameter defined in a class method, although it can have any name (although self is the widely adopted convention).\n",
    "- Self must be provided as a First parameter to the Instance method and constructor. If you don’t provide it, it will cause an error.\n",
    "- By using the self parameter, you can differentiate between instance variables (unique to each instance) and local variables (specific to the method scope). It also enables you to access other instance methods and variables within the class."
   ]
  },
  {
   "cell_type": "code",
   "execution_count": 2,
   "id": "a3781345",
   "metadata": {},
   "outputs": [
    {
     "name": "stdout",
     "output_type": "stream",
     "text": [
      "Model is Audi\n",
      "Brand is EV\n"
     ]
    }
   ],
   "source": [
    "class Car:\n",
    "    def __init__(self,model,brand):\n",
    "        self.model=model\n",
    "        self.brand=brand\n",
    "        \n",
    "    def display(self):\n",
    "        print(\"Model is\",self.model)\n",
    "        print(\"Brand is\",self.brand)\n",
    "\n",
    "audi=Car(\"Audi\",\"EV\")\n",
    "farrari=Car(\"Ferrari\",\"Ferrari 488\")\n",
    "\n",
    "audi.display()"
   ]
  },
  {
   "cell_type": "markdown",
   "id": "88da78b7",
   "metadata": {},
   "source": [
    "In the example above, self is used to refer to the instance of the Car class. It allows us to access the brand and model attribute within its methods (display)."
   ]
  },
  {
   "cell_type": "markdown",
   "id": "536f2b4f",
   "metadata": {},
   "source": [
    "### 7. For a library management system, you have to design the \"Book\" class with OOP principles in mind. The “Book” class will have following attributes: \n",
    "  1. title: Represents the title of the book. \n",
    "  2. author: Represents the author(s) of the book.\n",
    "  3. isbn: Represents the ISBN (International Standard Book Number) of the book.\n",
    "  4. publication_year: Represents the year of publication of the book.<br> e. available_copies: Represents the number of copies available for checkout.\n",
    "\n",
    "The class will also include the following methods:\n",
    "  1. check_out(self): Decrements the available copies by one if there are copies available for checkout.\n",
    "  2. return_book(self): Increments the available copies by one when a book is returned. \n",
    "  3. display_book_info(self): Displays the information\n"
   ]
  },
  {
   "cell_type": "code",
   "execution_count": null,
   "id": "c2d06f0e",
   "metadata": {},
   "outputs": [],
   "source": []
  },
  {
   "cell_type": "code",
   "execution_count": 3,
   "id": "f52b0f80",
   "metadata": {},
   "outputs": [],
   "source": [
    "class Book:\n",
    "    def __init__(self,title,author,isbn,publication_year,available_copies):\n",
    "        self.title = title\n",
    "        self.author = author\n",
    "        self.isbn = isbn\n",
    "        self.publication_year = publication_year\n",
    "        self.available_copies =available_copies\n",
    "        \n",
    "    def check_out(self):\n",
    "        if self.available_copies>0:\n",
    "            self.available_copies -=1\n",
    "            print(\"Book has been Checked out\")\n",
    "        else:\n",
    "            print(\"No copy available to check out\")\n",
    "    \n",
    "    def return_book(self):\n",
    "        self.available_copies+=1\n",
    "        print(\"Book has been returned\")\n",
    "    \n",
    "    def disply_book_info(self):\n",
    "        print(\"Title:\",self.title)\n",
    "        print(\"Author\",self.author)\n",
    "        print(\"ISBN\",self.isbn)\n",
    "        print(\"Publication Year\",self.publication_year)\n",
    "        print(\"Available Copies\",self.available_copies)\n",
    "        \n"
   ]
  },
  {
   "cell_type": "code",
   "execution_count": 6,
   "id": "7f205649",
   "metadata": {},
   "outputs": [],
   "source": [
    "book1 = Book(\"Even Though Nothing Changes If You Cry\",\" Park Joon\",9791196075170,2012,3)"
   ]
  },
  {
   "cell_type": "code",
   "execution_count": 7,
   "id": "7262872a",
   "metadata": {},
   "outputs": [
    {
     "name": "stdout",
     "output_type": "stream",
     "text": [
      "Book has been Checked out\n"
     ]
    }
   ],
   "source": [
    "book1.check_out()"
   ]
  },
  {
   "cell_type": "code",
   "execution_count": 8,
   "id": "99a76172",
   "metadata": {},
   "outputs": [
    {
     "name": "stdout",
     "output_type": "stream",
     "text": [
      "Book has been Checked out\n"
     ]
    }
   ],
   "source": [
    "book1.check_out()"
   ]
  },
  {
   "cell_type": "code",
   "execution_count": 9,
   "id": "bc6dd1a7",
   "metadata": {},
   "outputs": [
    {
     "name": "stdout",
     "output_type": "stream",
     "text": [
      "Book has been returned\n"
     ]
    }
   ],
   "source": [
    "book1.return_book()"
   ]
  },
  {
   "cell_type": "code",
   "execution_count": 10,
   "id": "56ac1f92",
   "metadata": {},
   "outputs": [
    {
     "name": "stdout",
     "output_type": "stream",
     "text": [
      "Title: Even Though Nothing Changes If You Cry\n",
      "Author  Park Joon\n",
      "ISBN 9791196075170\n",
      "Publication Year 2012\n",
      "Available Copies 2\n"
     ]
    }
   ],
   "source": [
    "book1.disply_book_info()"
   ]
  },
  {
   "cell_type": "code",
   "execution_count": null,
   "id": "68feb231",
   "metadata": {},
   "outputs": [],
   "source": []
  },
  {
   "cell_type": "code",
   "execution_count": null,
   "id": "85133246",
   "metadata": {},
   "outputs": [],
   "source": []
  },
  {
   "cell_type": "code",
   "execution_count": null,
   "id": "e997ab86",
   "metadata": {},
   "outputs": [],
   "source": [
    "class Ticket:\n",
    "    def __init__(self, ticket_id, event_name, event_date, venue, seat_number, price):\n",
    "        self.ticket_id = ticket_id\n",
    "        self.event_name = event_name\n",
    "        self.event_date = event_date\n",
    "        self.venue = venue\n",
    "        self.seat_number = seat_number\n",
    "        self.price = price\n",
    "        self.is_reserved = False\n",
    "\n",
    "    def reserve_ticket(self):\n",
    "        if not self.is_reserved:\n",
    "            self.is_reserved = True\n",
    "            print(\"Ticket reserved successfully.\")\n",
    "        else:\n",
    "            print(\"Ticket is already reserved.\")\n",
    "\n",
    "    def cancel_reservation(self):\n",
    "        if self.is_reserved:\n",
    "            self.is_reserved = False\n",
    "            print(\"Reservation canceled successfully.\")\n",
    "        else:\n",
    "            print(\"Ticket is not currently reserved.\")\n",
    "\n",
    "    def display_ticket_info(self):\n",
    "        print(\"Ticket ID:\", self.ticket_id)\n",
    "        print(\"Event Name:\", self.event_name)\n",
    "        print(\"Event Date:\", self.event_date)\n",
    "        print(\"Venue:\", self.venue)\n",
    "        print(\"Seat Number:\", self.seat_number)\n",
    "        print(\"Price:\", self.price)\n",
    "        print(\"Reservation Status:\", \"Reserved\" if self.is_reserved else \"Not Reserved\")\n",
    "\n",
    "\n",
    "# Example usage\n",
    "ticket1 = Ticket(\"T001\", \"Concert\", \"2023-07-15\", \"ABC Stadium\", \"A25\", 50.00)\n",
    "ticket1.display_ticket_info()\n",
    "\n",
    "ticket1.reserve_ticket()\n",
    "ticket1.display_ticket_info()\n",
    "\n",
    "ticket1.cancel_reservation()\n",
    "ticket1.display_ticket_info()\n",
    "\n",
    "ticket1.cancel_reservation()\n",
    "ticket1.display_ticket_info()\n"
   ]
  }
 ],
 "metadata": {
  "kernelspec": {
   "display_name": "Python 3 (ipykernel)",
   "language": "python",
   "name": "python3"
  },
  "language_info": {
   "codemirror_mode": {
    "name": "ipython",
    "version": 3
   },
   "file_extension": ".py",
   "mimetype": "text/x-python",
   "name": "python",
   "nbconvert_exporter": "python",
   "pygments_lexer": "ipython3",
   "version": "3.9.13"
  }
 },
 "nbformat": 4,
 "nbformat_minor": 5
}
