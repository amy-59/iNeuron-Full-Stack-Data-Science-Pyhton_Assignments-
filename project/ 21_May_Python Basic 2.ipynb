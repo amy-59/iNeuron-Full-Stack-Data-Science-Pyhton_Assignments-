{
 "cells": [
  {
   "cell_type": "markdown",
   "id": "b283737d",
   "metadata": {},
   "source": [
    "<h1 align = 'center'> Python Basic - 2</h3>"
   ]
  },
  {
   "cell_type": "markdown",
   "id": "3052cf69",
   "metadata": {},
   "source": [
    "### 1. Create two int type variables, apply addition, subtraction, division and multiplications and store the results in variables. Then print the data in the following format by calling the variables:\n",
    "#### First variable is __ & second variable is __. <br> Addition: __ + __ = __ <br> Subtraction: __ - __ = __ <br> Multiplication: __ * __ = __ <br> Division: __ / __ = __"
   ]
  },
  {
   "cell_type": "code",
   "execution_count": 3,
   "id": "ae79666d",
   "metadata": {},
   "outputs": [
    {
     "name": "stdout",
     "output_type": "stream",
     "text": [
      "Enter 1st number: 80\n",
      "Enter 1st number: 4\n",
      "First variable is 80 & second variable is 4.\n",
      "Addition: 80 + 4 = 84\n",
      "Subtraction: 80 - 4 = 76\n",
      "Multiplication: 80 * 4 = 320\n",
      "Division: 80 / 4 = 20.0\n"
     ]
    }
   ],
   "source": [
    "num1=int(input(\"Enter 1st number: \"))\n",
    "num2=int(input(\"Enter 1st number: \"))\n",
    "\n",
    "#Basic Operations\n",
    "addition = num1 + num2\n",
    "subtraction = num1 - num2\n",
    "multiplication = num1 * num2\n",
    "division = num1 / num2\n",
    "print(f\"First variable is {num1} & second variable is {num2}.\")\n",
    "print(f\"Addition: {num1} + {num2} = {addition}\")\n",
    "print(f\"Subtraction: {num1} - {num2} = {subtraction}\")\n",
    "print(f\"Multiplication: {num1} * {num2} = {multiplication}\")\n",
    "print(f\"Division: {num1} / {num2} = {division}\")\n"
   ]
  },
  {
   "cell_type": "markdown",
   "id": "13ad4076",
   "metadata": {},
   "source": [
    "### 2. What is the difference between the following operators:\n",
    "#### (i) ‘/’ & ‘//’ <br> (ii) ‘**’ & ‘^’\n"
   ]
  },
  {
   "cell_type": "code",
   "execution_count": null,
   "id": "30b8b3b3",
   "metadata": {},
   "outputs": [],
   "source": []
  },
  {
   "cell_type": "markdown",
   "id": "32822496",
   "metadata": {},
   "source": [
    "1.  \"/\" & \"//\"\n",
    " - \"/\" is the __division__ operator in Python. \n",
    " - It performs normal division and returns a floating-point result.\n",
    " - \"//\" is the __floor division__ operator in Python. \n",
    " - It performs division and rounds the result down to the nearest whole number, discarding the decimal part. It returns an integer result."
   ]
  },
  {
   "cell_type": "code",
   "execution_count": 4,
   "id": "df9a5bed",
   "metadata": {},
   "outputs": [
    {
     "name": "stdout",
     "output_type": "stream",
     "text": [
      "Result of 45 / 2 is : 22.5\n",
      "Result of 45 // 2 is : 22\n"
     ]
    }
   ],
   "source": [
    "result = 45 / 2\n",
    "print(\"Result of 45 / 2 is :\",result)\n",
    "\n",
    "result = 45 // 2\n",
    "print(\"Result of 45 // 2 is :\",result)\n"
   ]
  },
  {
   "cell_type": "markdown",
   "id": "68c19973",
   "metadata": {},
   "source": [
    "2. \"**\" & \"^\"\n",
    "  - \"**\" is the exponentiation operator in Python. It raises the left operand to the power of the right operand.\n",
    "  - is not an exponentiation operator in Python. Instead, it is the bitwise XOR operator, used for performing bitwise XOR operation between two operands."
   ]
  },
  {
   "cell_type": "code",
   "execution_count": 7,
   "id": "73cba228",
   "metadata": {},
   "outputs": [
    {
     "name": "stdout",
     "output_type": "stream",
     "text": [
      "Result of 5 ** 3 is  8\n",
      "Result of 5 ^ 3 is  6\n"
     ]
    }
   ],
   "source": [
    "result = 2 ** 3\n",
    "print(\"Result of 5 ** 3 is \",result)  \n",
    "\n",
    "result = 5 ^ 3 # in binary 5: 0101 and 3:011\n",
    "print(\"Result of 5 ^ 3 is \",result) #        0101 \n",
    "              #    XOR 0011\n",
    "              # -------------\n",
    "              #   ans: 0110\n"
   ]
  },
  {
   "cell_type": "code",
   "execution_count": null,
   "id": "5668d65f",
   "metadata": {},
   "outputs": [],
   "source": []
  }
 ],
 "metadata": {
  "kernelspec": {
   "display_name": "Python 3 (ipykernel)",
   "language": "python",
   "name": "python3"
  },
  "language_info": {
   "codemirror_mode": {
    "name": "ipython",
    "version": 3
   },
   "file_extension": ".py",
   "mimetype": "text/x-python",
   "name": "python",
   "nbconvert_exporter": "python",
   "pygments_lexer": "ipython3",
   "version": "3.9.13"
  }
 },
 "nbformat": 4,
 "nbformat_minor": 5
}
